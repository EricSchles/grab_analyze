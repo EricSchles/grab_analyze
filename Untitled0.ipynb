{
 "metadata": {
  "name": "",
  "signature": "sha256:6ab712903030d78e9de4f5efd56810e80973d28ab7c50e4acd147eebe073ddf0"
 },
 "nbformat": 3,
 "nbformat_minor": 0,
 "worksheets": [
  {
   "cells": [
    {
     "cell_type": "code",
     "collapsed": false,
     "input": [
      "import lxml.html\n",
      "import requests\n",
      "\n",
      "r = requests.get(\"https://www.google.com\")\n",
      "obj = lxml.html.fromstring(r.text)\n",
      "stuff = obj.xpath(\"//a\")\n",
      "for i in obj:\n",
      "    for j in i.iterlinks():\n",
      "        print j"
     ],
     "language": "python",
     "metadata": {},
     "outputs": [
      {
       "output_type": "stream",
       "stream": "stdout",
       "text": [
        "(<Element style at 0x30d70b0>, None, '/images/srpr/nav_logo80.png', 1054)\n",
        "(<Element a at 0x30d75f0>, 'href', 'https://www.google.com/imghp?hl=en&tab=wi', 0)\n",
        "(<Element a at 0x30d7650>, 'href', 'https://maps.google.com/maps?hl=en&tab=wl', 0)\n",
        "(<Element a at 0x30d76b0>, 'href', 'https://play.google.com/?hl=en&tab=w8', 0)\n",
        "(<Element a at 0x3097f50>, 'href', 'https://www.youtube.com/?tab=w1', 0)\n",
        "(<Element a at 0x3097fb0>, 'href', 'https://news.google.com/nwshp?hl=en&tab=wn', 0)\n",
        "(<Element a at 0x3097ef0>, 'href', 'https://mail.google.com/mail/?tab=wm', 0)\n",
        "(<Element a at 0x30dd770>, 'href', 'https://drive.google.com/?tab=wo', 0)\n",
        "(<Element a at 0x30dd7d0>, 'href', 'http://www.google.com/intl/en/options/', 0)\n",
        "(<Element a at 0x30dd830>, 'href', 'http://www.google.com/history/optout?hl=en', 0)\n",
        "(<Element a at 0x30dd890>, 'href', '/preferences?hl=en', 0)\n",
        "(<Element a at 0x30dd8f0>, 'href', 'https://accounts.google.com/ServiceLogin?hl=en&continue=https://www.google.com/', 0)\n",
        "(<Element img at 0x30dd110>, 'src', '/images/srpr/logo9w.png', 0)\n",
        "(<Element form at 0x30dd0b0>, 'action', '/search', 0)\n",
        "(<Element a at 0x30dd950>, 'href', '/advanced_search?hl=en&authuser=0', 0)\n",
        "(<Element a at 0x30dd9b0>, 'href', '/language_tools?hl=en&authuser=0', 0)\n",
        "(<Element font at 0x30dd0b0>, 'style', '#default#userdata', 13)\n",
        "(<Element a at 0x30dda10>, 'href', 'https://www.google.com/culturalinstitute/entity/%2Fm%2F01lhv6?hl=en', 0)\n",
        "(<Element a at 0x30dda70>, 'href', '/intl/en/ads/', 0)\n",
        "(<Element a at 0x30ddad0>, 'href', '/services/', 0)\n",
        "(<Element a at 0x30ddb30>, 'href', 'https://plus.google.com/116899029375914044550', 0)\n",
        "(<Element a at 0x30ddb90>, 'href', '/intl/en/about.html', 0)\n",
        "(<Element a at 0x30ddbf0>, 'href', '/intl/en/policies/', 0)\n"
       ]
      }
     ],
     "prompt_number": 3
    }
   ],
   "metadata": {}
  }
 ]
}